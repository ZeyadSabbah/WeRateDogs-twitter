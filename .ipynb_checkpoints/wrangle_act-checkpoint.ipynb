{
 "cells": [
  {
   "cell_type": "markdown",
   "metadata": {},
   "source": [
    "# Gather"
   ]
  },
  {
   "cell_type": "code",
   "execution_count": 3,
   "metadata": {},
   "outputs": [],
   "source": [
    "import pandas as pd\n",
    "import requests\n",
    "import os\n",
    "import config\n",
    "from datetime import datetime"
   ]
  },
  {
   "cell_type": "markdown",
   "metadata": {},
   "source": [
    "## WeRateDogs data"
   ]
  },
  {
   "cell_type": "code",
   "execution_count": 13,
   "metadata": {},
   "outputs": [],
   "source": [
    "tweets = pd.read_csv('twitter-archive-enhanced.csv')"
   ]
  },
  {
   "cell_type": "markdown",
   "metadata": {},
   "source": [
    "## tweet image predictions"
   ]
  },
  {
   "cell_type": "code",
   "execution_count": 3,
   "metadata": {},
   "outputs": [],
   "source": [
    "if not os.path.exists('image-predictions.csv'):\n",
    "    r = requests.get('https://d17h27t6h515a5.cloudfront.net/topher/2017/August/599fd2ad_image-predictions/image-predictions.tsv')\n",
    "    with open('image-predictions.tsv', 'wb') as f:\n",
    "        f.write(r.content)\n",
    "        \n",
    "images = pd.read_csv('image-predictions.tsv', sep='\\t')"
   ]
  },
  {
   "cell_type": "markdown",
   "metadata": {},
   "source": [
    "## retweet count and favourites"
   ]
  },
  {
   "cell_type": "code",
   "execution_count": 4,
   "metadata": {},
   "outputs": [],
   "source": [
    "import tweepy\n",
    "\n",
    "auth = tweepy.OAuthHandler(config.api_key, config.api_secret)\n",
    "auth.set_access_token(config.access_token, config.access_secret)\n",
    "\n",
    "api = tweepy.API(auth)"
   ]
  },
  {
   "cell_type": "code",
   "execution_count": null,
   "metadata": {},
   "outputs": [],
   "source": [
    "if not os.path.exists('ret_fav_count.csv'):\n",
    "    start_time = datetime.now()\n",
    "    ret_fav_count_list = []\n",
    "    deleted_tweets = []\n",
    "    for tweet_id in list(tweets.tweet_id):\n",
    "        try:\n",
    "            tweet_info = api.get_status(tweet_id, tweet_mode='extended')\n",
    "            retweet_count = tweet_info.retweet_count\n",
    "            favourite_count = tweet_info.favorite_count\n",
    "            ret_fav_count_list.append({'tweet_id':tweet_id,\n",
    "                                       'retweet_count':retweet_count,\n",
    "                                       'favourite_count':favourite_count})\n",
    "        except:\n",
    "            deleted_tweets.append(tweet_id)\n",
    "\n",
    "    ret_fav_count = pd.DataFrame(ret_fav_count_list, columns=['tweet_id', 'retweet_count', 'favourite_count'])\n",
    "    end_time = datetime.now()\n",
    "    time_taken = (start_time - end_time).total_seconds()\n",
    "    print('{} tweets are deleted.'.format(len(deleted_tweets)))\n",
    "    ret_fav_count.to_csv('ret_fav_count.csv', index=False)\n",
    "    \n",
    "    print('Time taken: {} minutes'.format(time_taken/60))\n",
    "\n",
    "ret_fav_count = pd.read_csv('ret_fav_count.csv')"
   ]
  },
  {
   "cell_type": "markdown",
   "metadata": {},
   "source": [
    "# Assess"
   ]
  },
  {
   "cell_type": "code",
   "execution_count": null,
   "metadata": {},
   "outputs": [],
   "source": []
  },
  {
   "cell_type": "markdown",
   "metadata": {},
   "source": [
    "### Quality"
   ]
  },
  {
   "cell_type": "markdown",
   "metadata": {},
   "source": []
  },
  {
   "cell_type": "markdown",
   "metadata": {},
   "source": [
    "### Tidiness"
   ]
  },
  {
   "cell_type": "markdown",
   "metadata": {},
   "source": []
  },
  {
   "cell_type": "markdown",
   "metadata": {},
   "source": [
    "# Clean"
   ]
  },
  {
   "cell_type": "markdown",
   "metadata": {},
   "source": [
    "### Define"
   ]
  },
  {
   "cell_type": "code",
   "execution_count": null,
   "metadata": {},
   "outputs": [],
   "source": []
  },
  {
   "cell_type": "markdown",
   "metadata": {},
   "source": [
    "### Code"
   ]
  }
 ],
 "metadata": {
  "kernelspec": {
   "display_name": "Python 3",
   "language": "python",
   "name": "python3"
  },
  "language_info": {
   "codemirror_mode": {
    "name": "ipython",
    "version": 3
   },
   "file_extension": ".py",
   "mimetype": "text/x-python",
   "name": "python",
   "nbconvert_exporter": "python",
   "pygments_lexer": "ipython3",
   "version": "3.9.1"
  }
 },
 "nbformat": 4,
 "nbformat_minor": 4
}
